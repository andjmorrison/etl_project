{
 "cells": [
  {
   "cell_type": "code",
   "execution_count": null,
   "metadata": {},
   "outputs": [],
   "source": [
    "#data wrangling\n",
    "import pandas as pd\n",
    "import requests\n",
    "import json\n",
    "import pprint\n",
    "pp = pprint.PrettyPrinter(indent=4)\n",
    "\n",
    "#profanity testing\n",
    "from profanity_check import predict, predict_prob\n",
    "\n",
    "#time\n",
    "import time\n",
    "from datetime import datetime as dt\n",
    "\n",
    "#db\n",
    "import pymongo\n",
    "from flask_pymongo import PyMongo\n",
    "\n",
    "#api\n",
    "import praw\n",
    "import nba_api\n",
    "from nba_api.stats.endpoints import leaguegamefinder"
   ]
  },
  {
   "cell_type": "code",
   "execution_count": null,
   "metadata": {},
   "outputs": [],
   "source": [
    "#deprecated method... can no longer search by unix ranges\n",
    "\n",
    "import time\n",
    "from datetime import date\n",
    "\n",
    "d = date(2018, 10, 16)\n",
    "unixtime = time.mktime(d.timetuple())\n",
    "\n",
    "# 86400 seconds in a day\n",
    "range_start = unixtime - 86400\n",
    "print(range_start)\n",
    "range_end = unixtime + 86400\n",
    "print(range_end)\n",
    "\n",
    "subreddit = 'nba'\n",
    "hometeam = 'Boston Celtics'\n",
    "awayteam = 'Philadelphia 76ers'\n",
    "date_start = 2018-10-16\n",
    "date_end = 2018-10-16\n",
    "query = (f'[Post Game Thread] {hometeam} {awayteam}')\n",
    "\n",
    "search = reddit.subreddit(subreddit).submissions(start=range_start, end=range_end, extra_query=query)\n",
    "\n",
    "search"
   ]
  },
  {
   "cell_type": "code",
   "execution_count": null,
   "metadata": {},
   "outputs": [],
   "source": [
    "search = \"LeBron\"\n",
    "year = \"2019\"\n",
    "\n",
    "titles = []\n",
    "dates = []\n",
    "\n",
    "for submission in subreddit.top(time_filter='all', limit=50):\n",
    "    if search in submission.title:\n",
    "        \n",
    "        date = dt.utcfromtimestamp(submission.created_utc).strftime('%Y-%m-%d %H:%M')\n",
    "        \n",
    "        if year in date:\n",
    "            \n",
    "            print(submission.title)\n",
    "            titles.append(submission.title)\n",
    "            \n",
    "            print(date)\n",
    "            dates.append(date)\n",
    "            \n",
    "            print('-------------------------')"
   ]
  },
  {
   "cell_type": "code",
   "execution_count": null,
   "metadata": {},
   "outputs": [],
   "source": [
    "count = 0\n",
    "query = subreddit.top(time_filter='year', limit=10)\n",
    "\n",
    "for submission in query:\n",
    "    count += 1\n",
    "    print(f'result {count}:')\n",
    "    print(submission.title)\n",
    "    print(submission.comments[0].body)\n",
    "    print('-------------------------')"
   ]
  },
  {
   "cell_type": "code",
   "execution_count": null,
   "metadata": {},
   "outputs": [],
   "source": [
    "search = subreddit.search('[Post Game Thread]')\n",
    "for submission in search:\n",
    "    print(submission.title)\n",
    "    print(dt.utcfromtimestamp(submission.created_utc).strftime('%Y-%m-%d %H:%M'))\n",
    "    print('-------------------------')"
   ]
  },
  {
   "cell_type": "code",
   "execution_count": null,
   "metadata": {},
   "outputs": [],
   "source": [
    "url = 'https://www.reddit.com/r/nba/search.json?q=post+game+thread&restrict_sr=True&t=2016'\n",
    "response = requests.get(url, headers = {'User-agent': 'nba_comments by /u/razzdraz'}).json()\n",
    "\n",
    "for i in response['data']['children']:\n",
    "    print(i['data']['subreddit'])\n",
    "    print(i['data']['title'])\n",
    "    print(i['data']['url'])\n",
    "    print(i['data']['score'])\n",
    "    print(i['data']['num_comments'])\n",
    "    print('-------------------------')"
   ]
  }
 ],
 "metadata": {
  "kernelspec": {
   "display_name": "Python 3",
   "language": "python",
   "name": "python3"
  },
  "language_info": {
   "codemirror_mode": {
    "name": "ipython",
    "version": 3
   },
   "file_extension": ".py",
   "mimetype": "text/x-python",
   "name": "python",
   "nbconvert_exporter": "python",
   "pygments_lexer": "ipython3",
   "version": "3.7.3"
  }
 },
 "nbformat": 4,
 "nbformat_minor": 2
}
